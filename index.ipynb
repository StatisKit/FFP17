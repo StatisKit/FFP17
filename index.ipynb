{
 "cells": [
  {
   "cell_type": "code",
   "execution_count": 1,
   "metadata": {
    "collapsed": true
   },
   "outputs": [],
   "source": [
    "import os"
   ]
  },
  {
   "cell_type": "code",
   "execution_count": 2,
   "metadata": {
    "collapsed": true
   },
   "outputs": [],
   "source": [
    "import matplotlib\n",
    "%matplotlib nbagg\n",
    "from matplotlib import pyplot"
   ]
  },
  {
   "cell_type": "code",
   "execution_count": 3,
   "metadata": {
    "collapsed": true
   },
   "outputs": [],
   "source": [
    "from statiskit import (linalg,\n",
    "                       core,\n",
    "                       pgm)"
   ]
  },
  {
   "cell_type": "code",
   "execution_count": 4,
   "metadata": {
    "collapsed": true
   },
   "outputs": [],
   "source": [
    "for K in [5, 10]:\n",
    "    os.environ['K'] = str(K)\n",
    "    for algo in ['nr', 'cd']:\n",
    "        os.environ['ALGO'] = algo\n",
    "        estimation = !jupyter nbconvert --ExecutePreprocessor.timeout=3600 --to notebook --execute misc/estimation.ipynb --output misc/estimation.ipynb\n",
    "       # print estimation"
   ]
  },
  {
   "cell_type": "code",
   "execution_count": 5,
   "metadata": {
    "collapsed": true
   },
   "outputs": [],
   "source": [
    "for K in [5, 10]:\n",
    "    os.environ['K'] = str(K)\n",
    "    for lasso in ['LINEAIR', 'AUTRE']:\n",
    "        os.environ['LASSO'] = lasso\n",
    "        lasso = !jupyter nbconvert --ExecutePreprocessor.timeout=3600 --to notebook --execute misc/LASSO.ipynb --output misc/LASSO.ipynb\n",
    "       # print estimation"
   ]
  },
  {
   "cell_type": "code",
   "execution_count": 6,
   "metadata": {
    "collapsed": true
   },
   "outputs": [],
   "source": [
    "for K in [5, 10]:\n",
    "    os.environ['K'] = str(K)\n",
    "    for criter in ['aic', 'bic']:\n",
    "        os.environ['CRITER'] = criter\n",
    "        selection = !jupyter nbconvert --ExecutePreprocessor.timeout=3600 --to notebook --execute misc/modelSelect.ipynb --output misc/modelSelect.ipynb\n",
    "       # print estimation"
   ]
  },
  {
   "cell_type": "raw",
   "metadata": {
    "collapsed": true
   },
   "source": [
    "pyplot.plot([event.value for event in data.V2.events], [event.value for event in data.V3.events], 'o')"
   ]
  },
  {
   "cell_type": "code",
   "execution_count": null,
   "metadata": {
    "collapsed": true
   },
   "outputs": [],
   "source": []
  }
 ],
 "metadata": {
  "kernelspec": {
   "display_name": "Python 2",
   "language": "python",
   "name": "python2"
  },
  "language_info": {
   "codemirror_mode": {
    "name": "ipython",
    "version": 2
   },
   "file_extension": ".py",
   "mimetype": "text/x-python",
   "name": "python",
   "nbconvert_exporter": "python",
   "pygments_lexer": "ipython2",
   "version": "2.7.13"
  }
 },
 "nbformat": 4,
 "nbformat_minor": 2
}
