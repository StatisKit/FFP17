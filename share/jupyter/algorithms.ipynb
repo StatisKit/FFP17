{
 "cells": [
  {
   "cell_type": "code",
   "execution_count": 1,
   "metadata": {
    "collapsed": true
   },
   "outputs": [],
   "source": [
    "import matplotlib\n",
    "%matplotlib nbagg\n",
    "from matplotlib import pyplot"
   ]
  },
  {
   "cell_type": "code",
   "execution_count": 2,
   "metadata": {
    "collapsed": true
   },
   "outputs": [],
   "source": [
    "from statiskit import (linalg,\n",
    "                       core,\n",
    "                       pgm)"
   ]
  },
  {
   "cell_type": "code",
   "execution_count": 3,
   "metadata": {
    "collapsed": true
   },
   "outputs": [],
   "source": [
    "import math\n",
    "import os"
   ]
  },
  {
   "cell_type": "code",
   "execution_count": 4,
   "metadata": {
    "collapsed": true
   },
   "outputs": [],
   "source": [
    "if not 'K' in os.environ:\n",
    "    os.environ['K'] = str(10)\n",
    "K = int(os.environ.get('K'))\n",
    "os.environ['WALK'] = 'chordal'\n",
    "sampling = !jupyter nbconvert --ExecutePreprocessor.timeout=3600 --to notebook --execute sampling.ipynb --output sampling.ipynb\n",
    "del os.environ['WALK']\n",
    "graph = pgm.read_gml('graph.gml')\n",
    "data = core.read_csv('data.csv')"
   ]
  },
  {
   "cell_type": "code",
   "execution_count": 5,
   "metadata": {
    "collapsed": true
   },
   "outputs": [],
   "source": [
    "import time\n",
    "try:\n",
    "    prev = time.time()\n",
    "    mle = pgm.graphical_gaussian_estimation(algo='ml',\n",
    "                                            data=data,\n",
    "                                            graph=graph)\n",
    "except:\n",
    "    curr = time.time()\n",
    "    T = curr - prev\n",
    "    logL = float(\"nan\")\n",
    "else:\n",
    "    curr = time.time()\n",
    "    T = curr - prev\n",
    "    logL = mle.estimated.loglikelihood(data)"
   ]
  },
  {
   "cell_type": "code",
   "execution_count": 6,
   "metadata": {
    "collapsed": true
   },
   "outputs": [],
   "source": [
    "Ts = []\n",
    "logLs = []\n",
    "for algo in ['nr', 'cd', 'scd']:\n",
    "    try:\n",
    "        prev = time.time()\n",
    "        alge = pgm.graphical_gaussian_estimation(algo=algo,\n",
    "                                                 data=data,\n",
    "                                                 graph=graph)\n",
    "    except:\n",
    "        curr = time.time()\n",
    "        Ts.append(T / (curr - prev))\n",
    "        logLs.append(float(\"nan\"))\n",
    "    else:\n",
    "        curr = time.time()\n",
    "        Ts.append(T / (curr - prev))\n",
    "        _logL = alge.estimated.loglikelihood(data)\n",
    "        if math.isnan(logL) or math.isinf(logL):\n",
    "            if math.isnan(_logL) or math.isinf(_logL):\n",
    "                logLs.append(float(\"nan\"))\n",
    "            else:\n",
    "                logLs.append(float(\"inf\"))            \n",
    "        else:\n",
    "            if math.isnan(_logL) or math.isinf(_logL):\n",
    "                logLs.append(0)\n",
    "            else:\n",
    "                logLs.append(alge.estimated.loglikelihood(data) / logL)"
   ]
  },
  {
   "cell_type": "code",
   "execution_count": 7,
   "metadata": {
    "collapsed": true
   },
   "outputs": [],
   "source": [
    "import hashlib\n",
    "from datetime import datetime\n",
    "identifier = hashlib.md5(str(datetime.today())).hexdigest()\n",
    "if not os.path.exists('algorithms.csv'):\n",
    "    with open('algorithms.csv', 'w') as filehandler:\n",
    "        filehandler.write('identifier,dimension,algorithm,speed,accuracy\\n')\n",
    "with open('algorithms.csv', 'a') as filehandler:\n",
    "    for algo, T, logL in zip(['nr', 'cd', 'scd'], Ts, logLs):\n",
    "        filehandler.write(','.join([identifier, str(K), str(algo), str(T), str(logL)]) + '\\n')"
   ]
  },
  {
   "cell_type": "code",
   "execution_count": 8,
   "metadata": {
    "collapsed": true
   },
   "outputs": [],
   "source": [
    "os.remove('graph.gml')\n",
    "os.remove('data.csv')"
   ]
  }
 ],
 "metadata": {
  "kernelspec": {
   "display_name": "Python 2",
   "language": "python",
   "name": "python2"
  },
  "language_info": {
   "codemirror_mode": {
    "name": "ipython",
    "version": 2
   },
   "file_extension": ".py",
   "mimetype": "text/x-python",
   "name": "python",
   "nbconvert_exporter": "python",
   "pygments_lexer": "ipython2",
   "version": "2.7.13"
  },
  "toc": {
   "colors": {
    "hover_highlight": "#DAA520",
    "navigate_num": "#000000",
    "navigate_text": "#333333",
    "running_highlight": "#FF0000",
    "selected_highlight": "#FFD700",
    "sidebar_border": "#EEEEEE",
    "wrapper_background": "#FFFFFF"
   },
   "moveMenuLeft": true,
   "nav_menu": {
    "height": "117px",
    "width": "252px"
   },
   "navigate_menu": true,
   "number_sections": true,
   "sideBar": true,
   "threshold": 4,
   "toc_cell": false,
   "toc_section_display": "block",
   "toc_window_display": false,
   "widenNotebook": false
  }
 },
 "nbformat": 4,
 "nbformat_minor": 2
}
