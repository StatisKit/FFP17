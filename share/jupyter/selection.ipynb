{
 "cells": [
  {
   "cell_type": "code",
   "execution_count": 1,
   "metadata": {
    "collapsed": true
   },
   "outputs": [],
   "source": [
    "import matplotlib\n",
    "%matplotlib nbagg\n",
    "from matplotlib import pyplot"
   ]
  },
  {
   "cell_type": "code",
   "execution_count": 2,
   "metadata": {
    "collapsed": true
   },
   "outputs": [],
   "source": [
    "from statiskit import (linalg,\n",
    "                       core,\n",
    "                       pgm)"
   ]
  },
  {
   "cell_type": "code",
   "execution_count": 3,
   "metadata": {
    "collapsed": true
   },
   "outputs": [],
   "source": [
    "import math\n",
    "import os"
   ]
  },
  {
   "cell_type": "code",
   "execution_count": 4,
   "metadata": {},
   "outputs": [],
   "source": [
    "%reload_ext rpy2.ipython"
   ]
  },
  {
   "cell_type": "code",
   "execution_count": 5,
   "metadata": {},
   "outputs": [],
   "source": [
    "%%R\n",
    "library(glasso)"
   ]
  },
  {
   "cell_type": "code",
   "execution_count": 6,
   "metadata": {
    "collapsed": true
   },
   "outputs": [],
   "source": [
    "if not 'K' in os.environ:\n",
    "    os.environ['K'] = str(10)\n",
    "K = int(os.environ.get('K'))\n",
    "simulation = !jupyter nbconvert --ExecutePreprocessor.timeout=3600 --to notebook --execute sampling.ipynb --output sampling.ipynb\n",
    "data = core.read_csv('data.csv')"
   ]
  },
  {
   "cell_type": "code",
   "execution_count": 8,
   "metadata": {
    "collapsed": true
   },
   "outputs": [],
   "source": [
    "if not 'LASSO' in os.environ:\n",
    "    os.environ['LASSO'] = \"linear\"\n",
    "LASSO = os.environ.get('LASSO')\n",
    "if not 'PENALTIES' in os.environ:\n",
    "    os.environ['PENALTIES'] = str(K)\n",
    "PENALTIES = int(os.environ.get('PENALTIES'))"
   ]
  },
  {
   "cell_type": "raw",
   "metadata": {},
   "source": [
    "import itertools\n",
    "import numpy\n",
    "import math\n",
    "S = data.covariance\n",
    "for u in range(K):\n",
    "    S[u, u] = float(\"nan\")\n",
    "    for v in range(u):\n",
    "        S[u, v] = math.fabs(S[u, v])\n",
    "        S[v, u] = S[u, v]\n",
    "rhos = core.from_list(list(itertools.chain(*S.to_list())))\n",
    "LASSO = 'empirical'\n",
    "if LASSO == 'linear':\n",
    "    rhos = numpy.linspace(rhos.min.value, rhos.max.value, PENALTIES).tolist()\n",
    "elif LASSO == 'empirical':\n",
    "    freq = core.frequency_estimation(data=rhos)\n",
    "    rhos = [freq.estimated.quantile(rho) for rho in numpy.linspace(0., 1., PENALTIES)]\n",
    "else:\n",
    "    raise ValueError(\"'LASSO' environment variable\")"
   ]
  },
  {
   "cell_type": "code",
   "execution_count": 9,
   "metadata": {},
   "outputs": [],
   "source": [
    "%R data = read.csv('data.csv', header = F, sep=\"\") \n",
    "%R -n S = cov(data)"
   ]
  },
  {
   "cell_type": "code",
   "execution_count": 10,
   "metadata": {},
   "outputs": [],
   "source": [
    "graphs = []\n",
    "import itertools\n",
    "S = data.covariance\n",
    "for u in range(K):\n",
    "    S[u, u] = float(\"nan\")\n",
    "    for v in range(u):\n",
    "        S[u, v] = math.fabs(S[u, v])\n",
    "        S[v, u] = S[u, v]\n",
    "for rho in [rho for rho in sorted(itertools.chain(*S.to_list())) if not math.isnan(rho)]:\n",
    "    %R -i rho\n",
    "    theta = %R glasso(S, rho=rho)$wi\n",
    "    graphs.append(pgm.UndirectedGraph(linalg.Matrix(theta)))\n",
    "graphs = sorted(graphs, key = lambda graph: graph.nb_edges)\n",
    "graphs = [graphs[0]] + [graphs[index] for index in range(1, len(graphs)) if not graphs[index - 1].nb_edges == graphs[index].nb_edges]"
   ]
  },
  {
   "cell_type": "code",
   "execution_count": null,
   "metadata": {
    "collapsed": true
   },
   "outputs": [],
   "source": [
    "if not 'CRITERION' in os.environ:\n",
    "    os.environ['CRITERION'] = \"SH\"\n",
    "CRITERION = os.environ.get('CRITERION')"
   ]
  },
  {
   "cell_type": "code",
   "execution_count": null,
   "metadata": {
    "collapsed": true
   },
   "outputs": [],
   "source": [
    "logL = []\n",
    "for graph in graphs:\n",
    "    try:\n",
    "        mle = pgm.graphical_gaussian_estimation(algo='scd',\n",
    "                                                data=data,\n",
    "                                                graph=graph)\n",
    "        logL.append(2 *  mle.estimated.loglikelihood(data))\n",
    "    except:\n",
    "        logL.append(float(\"nan\"))\n",
    "graphs, logL = zip(*[(graph, logl) for graph, logl in zip(graphs, logL) if not math.isnan(logl)])"
   ]
  },
  {
   "cell_type": "code",
   "execution_count": null,
   "metadata": {},
   "outputs": [],
   "source": [
    "logL"
   ]
  },
  {
   "cell_type": "code",
   "execution_count": null,
   "metadata": {},
   "outputs": [],
   "source": [
    "dimensions = [graph.nb_edges for graph in graphs]\n",
    "fig = pyplot.figure()\n",
    "if not CRITERION == 'SH':\n",
    "    total, dimensions = data.total, \n",
    "    if CRITERION == 'BIC':\n",
    "        import math\n",
    "        logL = [logl - 2 * dimension * math.log(total) for logl, dimension in zip(logL, dimensions)]\n",
    "    elif CRITERION == 'AIC':\n",
    "        logL = [logl - 2 * dimension for logl, dimension in zip(logL, dimensions)]\n",
    "    elif CRITERION == 'AICc':\n",
    "        logL = [logl - 2 * dimension * (dimension + 1) / (total - dimension -1) for logl, dimension in zip(logL, dimensions)]\n",
    "    else:\n",
    "        raise ValueError(\"'CRITERION' environment variable\")\n",
    "    axes = fig.add_subplot(1, 1, 1)\n",
    "    axes.plot(dimensions, logL)\n",
    "    index = logL.index(max(LogL))\n",
    "else:\n",
    "    sh = core.SlopeHeuristic(dimensions, logL)\n",
    "    sh.plot()\n",
    "    index = sh.selector(sh)\n",
    "pyplot.tight_layout()"
   ]
  },
  {
   "cell_type": "code",
   "execution_count": null,
   "metadata": {},
   "outputs": [],
   "source": [
    "fig = pyplot.figure()\n",
    "truth = pgm.read_gml('graph.gml')\n",
    "axes =  truth.to_matrix().plot(axes = fig.add_subplot(121))\n",
    "axes.set_title('$G$')\n",
    "axes = graphs[index].to_matrix().plot(axes = fig.add_subplot(122))\n",
    "axes.set_title('$\\widehat{G}_{' + CRITERION + '}$')"
   ]
  },
  {
   "cell_type": "code",
   "execution_count": null,
   "metadata": {},
   "outputs": [],
   "source": [
    "def TP(truth, predicted):\n",
    "    tp = 0\n",
    "    for u in range(truth.nb_vertices):\n",
    "        for v in range(u):\n",
    "            if truth.has_edge(u, v) and predicted.has_edge(u, v):\n",
    "                tp += 1\n",
    "    return tp\n",
    "\n",
    "def TN(truth, predicted):\n",
    "    tn = 0\n",
    "    for u in range(truth.nb_vertices):\n",
    "        for v in range(u):\n",
    "            if not truth.has_edge(u, v) and not predicted.has_edge(u, v):\n",
    "                tn += 1\n",
    "    return tn\n",
    "\n",
    "def FP(truth, predicted):\n",
    "    fp = 0\n",
    "    for u in range(truth.nb_vertices):\n",
    "        for v in range(u):\n",
    "            if truth.has_edge(u, v) and not predicted.has_edge(u, v):\n",
    "                fp += 1\n",
    "    return fp\n",
    "\n",
    "def FN(truth, predicted):\n",
    "    fn = 0\n",
    "    for u in range(truth.nb_vertices):\n",
    "        for v in range(u):\n",
    "            if not truth.has_edge(u, v) and predicted.has_edge(u, v):\n",
    "                fn += 1\n",
    "    return fn"
   ]
  },
  {
   "cell_type": "code",
   "execution_count": null,
   "metadata": {},
   "outputs": [],
   "source": [
    "import hashlib\n",
    "from datetime import datetime\n",
    "identifier = hashlib.md5(str(datetime.today())).hexdigest()\n",
    "with open('paths.csv', 'a') as filehandler:\n",
    "    for graph in graphs:\n",
    "        tp, tn, fp, fn = TP(truth, graph), TN(truth, graph), FP(truth, graph), FN(truth, graph)\n",
    "        filehandler.write(','.join([identifier, str(K), str(LASSO), str(tp), str(tn), str(fp), str(fn)]) + '\\n')"
   ]
  },
  {
   "cell_type": "code",
   "execution_count": null,
   "metadata": {
    "collapsed": true
   },
   "outputs": [],
   "source": [
    "with open('criteria.csv', 'a') as filehandler:\n",
    "    tp, tn, fp, fn = TP(truth, graphs[index]), TN(truth, graphs[index]), FP(truth, graphs[index]), FN(truth, graphs[index])\n",
    "    filehandler.write(','.join([str(K), str(CRITERION), str(tp), str(tn), str(fp), str(fn)]) + '\\n')"
   ]
  },
  {
   "cell_type": "code",
   "execution_count": null,
   "metadata": {
    "collapsed": true
   },
   "outputs": [],
   "source": [
    "os.remove('graph.gml')\n",
    "os.remove('data.csv')"
   ]
  }
 ],
 "metadata": {
  "kernelspec": {
   "display_name": "Python 2",
   "language": "python",
   "name": "python2"
  },
  "language_info": {
   "codemirror_mode": {
    "name": "ipython",
    "version": 2
   },
   "file_extension": ".py",
   "mimetype": "text/x-python",
   "name": "python",
   "nbconvert_exporter": "python",
   "pygments_lexer": "ipython2",
   "version": "2.7.13"
  },
  "toc": {
   "colors": {
    "hover_highlight": "#DAA520",
    "navigate_num": "#000000",
    "navigate_text": "#333333",
    "running_highlight": "#FF0000",
    "selected_highlight": "#FFD700",
    "sidebar_border": "#EEEEEE",
    "wrapper_background": "#FFFFFF"
   },
   "moveMenuLeft": true,
   "nav_menu": {
    "height": "12px",
    "width": "252px"
   },
   "navigate_menu": true,
   "number_sections": true,
   "sideBar": true,
   "threshold": 4,
   "toc_cell": false,
   "toc_section_display": "block",
   "toc_window_display": false,
   "widenNotebook": false
  }
 },
 "nbformat": 4,
 "nbformat_minor": 2
}
