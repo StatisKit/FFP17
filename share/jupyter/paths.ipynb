{
 "cells": [
  {
   "cell_type": "code",
   "execution_count": 1,
   "metadata": {
    "collapsed": true
   },
   "outputs": [],
   "source": [
    "import matplotlib\n",
    "%matplotlib nbagg\n",
    "from matplotlib import pyplot"
   ]
  },
  {
   "cell_type": "code",
   "execution_count": 2,
   "metadata": {
    "collapsed": true
   },
   "outputs": [],
   "source": [
    "from statiskit import (linalg,\n",
    "                       core,\n",
    "                       pgm)"
   ]
  },
  {
   "cell_type": "code",
   "execution_count": 3,
   "metadata": {
    "collapsed": true
   },
   "outputs": [],
   "source": [
    "import math\n",
    "import os"
   ]
  },
  {
   "cell_type": "code",
   "execution_count": 4,
   "metadata": {
    "collapsed": true
   },
   "outputs": [],
   "source": [
    "%reload_ext rpy2.ipython"
   ]
  },
  {
   "cell_type": "code",
   "execution_count": 5,
   "metadata": {
    "collapsed": true
   },
   "outputs": [],
   "source": [
    "%%R\n",
    "library(glasso)"
   ]
  },
  {
   "cell_type": "code",
   "execution_count": 6,
   "metadata": {
    "collapsed": true
   },
   "outputs": [],
   "source": [
    "if not 'K' in os.environ:\n",
    "    os.environ['K'] = str(10)\n",
    "K = int(os.environ.get('K'))\n",
    "simulation = !jupyter nbconvert --ExecutePreprocessor.timeout=3600 --to notebook --execute sampling.ipynb --output sampling.ipynb\n",
    "data = core.read_csv('data.csv')"
   ]
  },
  {
   "cell_type": "code",
   "execution_count": 7,
   "metadata": {
    "collapsed": true
   },
   "outputs": [],
   "source": [
    "if not 'PENALTIES' in os.environ:\n",
    "    os.environ['PENALTIES'] = str(K)\n",
    "PENALTIES = int(os.environ.get('PENALTIES'))"
   ]
  },
  {
   "cell_type": "code",
   "execution_count": 8,
   "metadata": {},
   "outputs": [],
   "source": [
    "import itertools\n",
    "import numpy\n",
    "import math\n",
    "S = data.covariance\n",
    "for u in range(K):\n",
    "    S[u, u] = float(\"nan\")\n",
    "    for v in range(u):\n",
    "        S[u, v] = math.fabs(S[u, v])\n",
    "        S[v, u] = S[u, v]\n",
    "rhos = dict(data = core.from_list(list(itertools.chain(*S.to_list()))))\n",
    "rhos['linear'] = numpy.linspace(rhos['data'].min.value, rhos['data'].max.value, PENALTIES).tolist()\n",
    "freq = core.frequency_estimation(data=rhos['data'])\n",
    "rhos['empirical'] = [freq.estimated.quantile(rho) for rho in numpy.linspace(0., 1., PENALTIES)]\n",
    "del rhos['data']"
   ]
  },
  {
   "cell_type": "code",
   "execution_count": 9,
   "metadata": {
    "collapsed": true
   },
   "outputs": [],
   "source": [
    "%R data = read.csv('data.csv', header = F, sep=\"\") \n",
    "%R -n S = cov(data)"
   ]
  },
  {
   "cell_type": "code",
   "execution_count": 10,
   "metadata": {
    "collapsed": true
   },
   "outputs": [],
   "source": [
    "graphs = dict()\n",
    "for path in rhos:\n",
    "    graphs[path] = []\n",
    "    for rho in rhos[path]:\n",
    "        %R -i rho\n",
    "        theta = %R glasso(S, rho=rho)$wi\n",
    "        graphs[path].append(pgm.UndirectedGraph(linalg.Matrix(theta)))\n",
    "    graphs[path] = sorted(graphs[path], key = lambda graph: graph.nb_edges)"
   ]
  },
  {
   "cell_type": "code",
   "execution_count": 11,
   "metadata": {
    "collapsed": true
   },
   "outputs": [],
   "source": [
    "def TP(truth, predicted):\n",
    "    tp = 0\n",
    "    for u in range(truth.nb_vertices):\n",
    "        for v in range(u):\n",
    "            if truth.has_edge(u, v) and predicted.has_edge(u, v):\n",
    "                tp += 1\n",
    "    return tp\n",
    "\n",
    "def TN(truth, predicted):\n",
    "    tn = 0\n",
    "    for u in range(truth.nb_vertices):\n",
    "        for v in range(u):\n",
    "            if not truth.has_edge(u, v) and not predicted.has_edge(u, v):\n",
    "                tn += 1\n",
    "    return tn\n",
    "\n",
    "def FP(truth, predicted):\n",
    "    fp = 0\n",
    "    for u in range(truth.nb_vertices):\n",
    "        for v in range(u):\n",
    "            if truth.has_edge(u, v) and not predicted.has_edge(u, v):\n",
    "                fp += 1\n",
    "    return fp\n",
    "\n",
    "def FN(truth, predicted):\n",
    "    fn = 0\n",
    "    for u in range(truth.nb_vertices):\n",
    "        for v in range(u):\n",
    "            if not truth.has_edge(u, v) and predicted.has_edge(u, v):\n",
    "                fn += 1\n",
    "    return fn\n",
    "\n",
    "truth = pgm.read_gml('graph.gml')"
   ]
  },
  {
   "cell_type": "code",
   "execution_count": 12,
   "metadata": {},
   "outputs": [],
   "source": [
    "import hashlib\n",
    "from datetime import datetime\n",
    "identifier = hashlib.md5(str(datetime.today())).hexdigest()\n",
    "if not os.path.exists('paths.csv'):\n",
    "    with open('paths.csv', 'w') as filehandler:\n",
    "        filehandler.write('identifier,dimension,path,TP,TN,FP,FN\\n')\n",
    "with open('paths.csv', 'a') as filehandler:\n",
    "    for path in graphs:\n",
    "        for graph in graphs[path]:\n",
    "            tp, tn, fp, fn = TP(truth, graph), TN(truth, graph), FP(truth, graph), FN(truth, graph)\n",
    "            filehandler.write(','.join([identifier, str(K), str(path), str(tp), str(tn), str(fp), str(fn)]) + '\\n')"
   ]
  },
  {
   "cell_type": "code",
   "execution_count": 13,
   "metadata": {
    "collapsed": true
   },
   "outputs": [],
   "source": [
    "os.remove('graph.gml')\n",
    "os.remove('data.csv')"
   ]
  }
 ],
 "metadata": {
  "kernelspec": {
   "display_name": "Python 2",
   "language": "python",
   "name": "python2"
  },
  "language_info": {
   "codemirror_mode": {
    "name": "ipython",
    "version": 2
   },
   "file_extension": ".py",
   "mimetype": "text/x-python",
   "name": "python",
   "nbconvert_exporter": "python",
   "pygments_lexer": "ipython2",
   "version": "2.7.13"
  },
  "toc": {
   "colors": {
    "hover_highlight": "#DAA520",
    "navigate_num": "#000000",
    "navigate_text": "#333333",
    "running_highlight": "#FF0000",
    "selected_highlight": "#FFD700",
    "sidebar_border": "#EEEEEE",
    "wrapper_background": "#FFFFFF"
   },
   "moveMenuLeft": true,
   "nav_menu": {
    "height": "12px",
    "width": "252px"
   },
   "navigate_menu": true,
   "number_sections": true,
   "sideBar": true,
   "threshold": 4,
   "toc_cell": false,
   "toc_section_display": "block",
   "toc_window_display": false,
   "widenNotebook": false
  }
 },
 "nbformat": 4,
 "nbformat_minor": 2
}
