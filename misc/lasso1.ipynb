{
 "cells": [
  {
   "cell_type": "markdown",
   "metadata": {},
   "source": [
    "    # Lasso graphiques sur les données avec lamdas =valeurs de Theta"
   ]
  },
  {
   "cell_type": "markdown",
   "metadata": {},
   "source": [
    "# Lasso graphiques sur les données  avec les lamdas = aux val de $\\Theta$"
   ]
  },
  {
   "cell_type": "code",
   "execution_count": 5,
   "metadata": {
    "collapsed": true
   },
   "outputs": [],
   "source": [
    "import matplotlib\n",
    "%matplotlib nbagg\n",
    "from matplotlib import pyplot"
   ]
  },
  {
   "cell_type": "code",
   "execution_count": 6,
   "metadata": {
    "collapsed": true
   },
   "outputs": [],
   "source": [
    "from statiskit import (linalg,\n",
    "                       core,\n",
    "                       pgm)"
   ]
  },
  {
   "cell_type": "code",
   "execution_count": 7,
   "metadata": {
    "collapsed": true
   },
   "outputs": [],
   "source": [
    "import math\n",
    "import os"
   ]
  },
  {
   "cell_type": "code",
   "execution_count": 13,
   "metadata": {},
   "outputs": [
    {
     "data": {
      "text/html": [
       "<table style=\"max-width: 100%;\">\n",
       "\t\t<tr>\n",
       "\t\t\t<th></th>\n",
       "\t\t\t<th>V15</th>\n",
       "\t\t\t<th>V16</th>\n",
       "\t\t\t<th>V17</th>\n",
       "\t\t\t<th>V18</th>\n",
       "\t\t\t<th>V19</th>\n",
       "\t\t</tr>\n",
       "\t\t<tr>\n",
       "\t\t\t<th>0</th>\n",
       "\t\t\t<td>$0.89$</td>\n",
       "\t\t\t<td>$-0.27$</td>\n",
       "\t\t\t<td>$-1.58$</td>\n",
       "\t\t\t<td>$0.72$</td>\n",
       "\t\t\t<td>$0.61$</td>\n",
       "\t\t<tr>\n",
       "\t\t\t<th>1</th>\n",
       "\t\t\t<td>$1.05$</td>\n",
       "\t\t\t<td>$-0.02$</td>\n",
       "\t\t\t<td>$-0.72$</td>\n",
       "\t\t\t<td>$-0.86$</td>\n",
       "\t\t\t<td>$0.73$</td>\n",
       "\t\t<tr>\n",
       "\t\t\t<th>2</th>\n",
       "\t\t\t<td>$0.82$</td>\n",
       "\t\t\t<td>$-0.60$</td>\n",
       "\t\t\t<td>$-1.40$</td>\n",
       "\t\t\t<td>$1.39$</td>\n",
       "\t\t\t<td>$-2.64$</td>\n",
       "\t\t<tr>\n",
       "\t\t\t<th>3</th>\n",
       "\t\t\t<td>$0.35$</td>\n",
       "\t\t\t<td>$-1.35$</td>\n",
       "\t\t\t<td>$-0.97$</td>\n",
       "\t\t\t<td>$1.18$</td>\n",
       "\t\t\t<td>$0.01$</td>\n",
       "\t\t<tr>\n",
       "\t\t\t<th>4</th>\n",
       "\t\t\t<td>$1.06$</td>\n",
       "\t\t\t<td>$-0.16$</td>\n",
       "\t\t\t<td>$-0.38$</td>\n",
       "\t\t\t<td>$0.10$</td>\n",
       "\t\t\t<td>$-3.45$</td>\n",
       "\t</table>"
      ],
      "text/plain": [
       "      'V15'   'V16'   'V17'   'V18'   'V19'  \n",
       "0     0.89    -0.27   -1.58   0.72    0.61   \n",
       "1     1.05    -0.02   -0.72   -0.86   0.73   \n",
       "2     0.82    -0.60   -1.40   1.39    -2.64  \n",
       "3     0.35    -1.35   -0.97   1.18    0.01   \n",
       "4     1.06    -0.16   -0.38   0.10    -3.45  "
      ]
     },
     "execution_count": 13,
     "metadata": {},
     "output_type": "execute_result"
    }
   ],
   "source": [
    "os.environ['K'] = str(5)\n",
    "#!jupyter nbconvert --ExecutePreprocessor.timeout=3600 --to notebook --execute sampling.ipynb --output sampling.ipynb\n",
    "#graph = pgm.read_gml(os.path.join('results', 'graph.gml'))\n",
    "#while not graph.is_chordal:\n",
    " #   !jupyter nbconvert --ExecutePreprocessor.timeout=3600 --to notebook --execute sampling.ipynb --output sampling.ipynb\n",
    "graph = pgm.read_gml(os.path.join('results', 'graph.gml'))\n",
    "data = core.read_csv(os.path.join('results', 'data.csv'))\n",
    "data"
   ]
  },
  {
   "cell_type": "code",
   "execution_count": 15,
   "metadata": {},
   "outputs": [
    {
     "name": "stdout",
     "output_type": "stream",
     "text": [
      "Error in file(file, \"rt\") : impossible d'ouvrir la connexion\r\n",
      "Calls: read.csv -> read.table -> file\r\n",
      "De plus : Warning message:\r\n",
      "In file(file, \"rt\") :\r\n",
      "  impossible d'ouvrir le fichier 'data.csv' : Aucun fichier ou dossier de ce type\r\n",
      "Exécution arrêtée\r\n"
     ]
    }
   ],
   "source": [
    "!Rscript  os.path.join('results',lasso1.R)"
   ]
  },
  {
   "cell_type": "code",
   "execution_count": 11,
   "metadata": {
    "collapsed": true
   },
   "outputs": [],
   "source": [
    "graphs = []\n",
    "for filepath in os.listdir('.'):\n",
    "    if filepath.startswith('lasso_'):\n",
    "        adjmat = linalg.read_csv(filepath)\n",
    "        graphs.append(pgm.UndirectedGraph(adjmat))\n",
    "graphs = sorted(graphs, key = lambda graph: graph.nb_edges)"
   ]
  },
  {
   "cell_type": "code",
   "execution_count": null,
   "metadata": {
    "collapsed": true
   },
   "outputs": [],
   "source": [
    "LLHs = []\n",
    "BICs = []\n",
    "AICs = []\n",
    "\n",
    "%time\n",
    "for graph in graphs:\n",
    "    try:\n",
    "        mle = pgm.graphical_gaussian_estimation(algo='scd',\n",
    "                                                data=data,\n",
    "                                                graph=graph)\n",
    "\n",
    "        dist = mle.estimated.copy()\n",
    "\n",
    "        LLHs.append(2 * dist.loglikelihood(data))\n",
    "        \n",
    "    except:\n",
    "        LLHs.append(float(\"nan\"))\n",
    "    finally:\n",
    "        \n",
    "        BICs.append(LLHs[-1] - dist.nb_parameters * math.log(len(data.events)))\n",
    "        AICs.append(LLHs[-1] - dist.nb_parameters * 2)\n",
    "\n",
    "fig = pyplot.figure()\n",
    "axes = fig.add_subplot(111)\n",
    "axes.plot(LLHs)\n",
    "axes.plot(BICs)\n",
    "axes.plot(AICs)"
   ]
  },
  {
   "cell_type": "code",
   "execution_count": null,
   "metadata": {
    "collapsed": true
   },
   "outputs": [],
   "source": [
    "aic = AICs.index(max(AICs))\n",
    "bic = BICs.index(max(BICs))\n"
   ]
  },
  {
   "cell_type": "code",
   "execution_count": null,
   "metadata": {
    "collapsed": true
   },
   "outputs": [],
   "source": [
    "       \n",
    "fig = pyplot.figure()\n",
    "axes = graphs[aic].to_matrix().plot(axes = fig.add_subplot(131))\n",
    "axes.set_title('adjmat avec AIC')\n",
    "axes = graphs[bic].to_matrix().plot(axes = fig.add_subplot(132))\n",
    "axes.set_title('adjmat avec BIC')\n",
    "axes =  graph0.to_matrix().plot(axes = fig.add_subplot(133))\n",
    "axes.set_title('$ \\widehat \\Theta$')\n",
    "\n"
   ]
  }
 ],
 "metadata": {
  "kernelspec": {
   "display_name": "Python 2",
   "language": "python",
   "name": "python2"
  },
  "language_info": {
   "codemirror_mode": {
    "name": "ipython",
    "version": 2
   },
   "file_extension": ".py",
   "mimetype": "text/x-python",
   "name": "python",
   "nbconvert_exporter": "python",
   "pygments_lexer": "ipython2",
   "version": "2.7.13"
  }
 },
 "nbformat": 4,
 "nbformat_minor": 2
}
