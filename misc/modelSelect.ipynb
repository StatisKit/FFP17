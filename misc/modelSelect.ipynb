{
 "cells": [
  {
   "cell_type": "markdown",
   "metadata": {},
   "source": [
    "# Séléction de modèle "
   ]
  },
  {
   "cell_type": "code",
   "execution_count": null,
   "metadata": {
    "collapsed": true
   },
   "outputs": [],
   "source": [
    "import matplotlib\n",
    "%matplotlib nbagg\n",
    "from matplotlib import pyplot"
   ]
  },
  {
   "cell_type": "code",
   "execution_count": 2,
   "metadata": {
    "collapsed": true
   },
   "outputs": [],
   "source": [
    "from statiskit import (linalg,\n",
    "                       core,\n",
    "                       pgm)"
   ]
  },
  {
   "cell_type": "code",
   "execution_count": 3,
   "metadata": {
    "collapsed": true
   },
   "outputs": [],
   "source": [
    "import math\n",
    "import os"
   ]
  },
  {
   "cell_type": "code",
   "execution_count": null,
   "metadata": {
    "collapsed": true
   },
   "outputs": [],
   "source": [
    "if not 'K' in os.environ:\n",
    "    os.environ['K'] = str(5)\n",
    "K = int(os.environ.get('K'))\n",
    "simulation = !jupyter nbconvert --ExecutePreprocessor.timeout=3600 --to notebook --execute sampling.ipynb --output sampling.ipynb\n",
    "graph0 = pgm.read_gml(os.path.join('results', 'graph.gml'))\n",
    "data = core.read_csv(os.path.join('results', 'data.csv'))\n",
    "data"
   ]
  },
  {
   "cell_type": "code",
   "execution_count": null,
   "metadata": {},
   "outputs": [],
   "source": [
    "if not 'LASSO' in os.environ:\n",
    "    os.environ['LASSO'] = \"LINEAIR\"\n",
    "LASSO = os.environ.get('LASSO')\n",
    "lasso = !jupyter nbconvert --ExecutePreprocessor.timeout=3600 --to notebook --execute misc/LASSO.ipynb --output misc/LASSO.ipynb\n"
   ]
  },
  {
   "cell_type": "code",
   "execution_count": null,
   "metadata": {},
   "outputs": [],
   "source": [
    "graphs = []\n",
    "for filepath in os.listdir('.'):\n",
    "    if filepath.startswith('lasso_'):\n",
    "        adjmat = linalg.read_csv(filepath)\n",
    "        graphs.append(pgm.UndirectedGraph(adjmat))\n",
    "graphs = sorted(graphs, key = lambda graph: graph.nb_edges)\n",
    "graphs"
   ]
  },
  {
   "cell_type": "code",
   "execution_count": 9,
   "metadata": {},
   "outputs": [
    {
     "name": "stdout",
     "output_type": "stream",
     "text": [
      "CPU times: user 18 µs, sys: 2 µs, total: 20 µs\n",
      "Wall time: 49.8 µs\n"
     ]
    },
    {
     "data": {
      "text/plain": [
       "[]"
      ]
     },
     "execution_count": 9,
     "metadata": {},
     "output_type": "execute_result"
    }
   ],
   "source": [
    "LLHs = []\n",
    "BICs = []\n",
    "AICs = []\n",
    "\n",
    "%time\n",
    "for graph in graphs:\n",
    "    try:\n",
    "        mle = pgm.graphical_gaussian_estimation(algo='scd',\n",
    "                                                data=data,\n",
    "                                                graph=graph)\n",
    "        dist = mle.estimated.copy()\n",
    "\n",
    "        LLHs.append(2 * dist.loglikelihood(data))\n",
    "        \n",
    "    except Exception as e:\n",
    "        print e\n",
    "        LLHs.append(float(\"nan\"))\n",
    "        BICs.append(LLHs[-1])\n",
    "        AICs.append(LLHs[-1])\n",
    "    else:\n",
    "        BICs.append(LLHs[-1] - dist.nb_parameters * math.log(len(data.events)))\n",
    "        AICs.append(LLHs[-1] - dist.nb_parameters * 2)\n",
    "\n",
    "#fig = pyplot.figure()\n",
    "#axes = fig.add_subplot(111)\n",
    "#axes.plot(LLHs)\n",
    "#axes.plot(BICs)\n",
    "#axes.plot(AICs)\n"
   ]
  },
  {
   "cell_type": "code",
   "execution_count": 7,
   "metadata": {},
   "outputs": [
    {
     "data": {
      "text/plain": [
       "'bic'"
      ]
     },
     "execution_count": 7,
     "metadata": {},
     "output_type": "execute_result"
    }
   ],
   "source": [
    "os.environ['CRITER'] = \"bic\"\n",
    "criter = os.environ.get('CRITER')\n",
    "criter"
   ]
  },
  {
   "cell_type": "code",
   "execution_count": 8,
   "metadata": {},
   "outputs": [
    {
     "ename": "ValueError",
     "evalue": "max() arg is an empty sequence",
     "output_type": "error",
     "traceback": [
      "\u001b[0;31m---------------------------------------------------------------------------\u001b[0m",
      "\u001b[0;31mValueError\u001b[0m                                Traceback (most recent call last)",
      "\u001b[0;32m<ipython-input-8-c745b72ef60a>\u001b[0m in \u001b[0;36m<module>\u001b[0;34m()\u001b[0m\n\u001b[1;32m      1\u001b[0m \u001b[0;32mif\u001b[0m \u001b[0mcriter\u001b[0m \u001b[0;34m==\u001b[0m \u001b[0;34m\"bic\"\u001b[0m\u001b[0;34m:\u001b[0m\u001b[0;34m\u001b[0m\u001b[0m\n\u001b[0;32m----> 2\u001b[0;31m     \u001b[0mmodel\u001b[0m \u001b[0;34m=\u001b[0m \u001b[0mBICs\u001b[0m\u001b[0;34m.\u001b[0m\u001b[0mindex\u001b[0m\u001b[0;34m(\u001b[0m\u001b[0mmax\u001b[0m\u001b[0;34m(\u001b[0m\u001b[0mBICs\u001b[0m\u001b[0;34m)\u001b[0m\u001b[0;34m)\u001b[0m\u001b[0;34m\u001b[0m\u001b[0m\n\u001b[0m\u001b[1;32m      3\u001b[0m \u001b[0;32melse\u001b[0m\u001b[0;34m:\u001b[0m\u001b[0;34m\u001b[0m\u001b[0m\n\u001b[1;32m      4\u001b[0m     \u001b[0mmodel\u001b[0m \u001b[0;34m=\u001b[0m \u001b[0mAICs\u001b[0m\u001b[0;34m.\u001b[0m\u001b[0mindex\u001b[0m\u001b[0;34m(\u001b[0m\u001b[0mmax\u001b[0m\u001b[0;34m(\u001b[0m\u001b[0mAICs\u001b[0m\u001b[0;34m)\u001b[0m\u001b[0;34m)\u001b[0m\u001b[0;34m\u001b[0m\u001b[0m\n\u001b[1;32m      5\u001b[0m \u001b[0mmodel\u001b[0m\u001b[0;34m\u001b[0m\u001b[0m\n",
      "\u001b[0;31mValueError\u001b[0m: max() arg is an empty sequence"
     ]
    }
   ],
   "source": [
    "if criter == \"bic\":\n",
    "    model = BICs.index(max(BICs))\n",
    "else:\n",
    "    model = AICs.index(max(AICs))\n",
    "model"
   ]
  },
  {
   "cell_type": "code",
   "execution_count": null,
   "metadata": {
    "collapsed": true
   },
   "outputs": [],
   "source": [
    "import math\n",
    "with open(os.path.join('results', 'model.csv'), 'a') as filehandler:\n",
    "    filehandler.write(','.join([str(criter), str(model), str(tp), str(tn), str(fp), str(fn)]) + '\\n')"
   ]
  }
 ],
 "metadata": {
  "kernelspec": {
   "display_name": "Python 2",
   "language": "python",
   "name": "python2"
  },
  "language_info": {
   "codemirror_mode": {
    "name": "ipython",
    "version": 2
   },
   "file_extension": ".py",
   "mimetype": "text/x-python",
   "name": "python",
   "nbconvert_exporter": "python",
   "pygments_lexer": "ipython2",
   "version": "2.7.13"
  }
 },
 "nbformat": 4,
 "nbformat_minor": 2
}
