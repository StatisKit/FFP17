{
 "cells": [
  {
   "cell_type": "markdown",
   "metadata": {},
   "source": [
    "# Séléction de modèle "
   ]
  },
  {
   "cell_type": "code",
   "execution_count": 1,
   "metadata": {
    "collapsed": true
   },
   "outputs": [],
   "source": [
    "import matplotlib\n",
    "%matplotlib nbagg\n",
    "from matplotlib import pyplot"
   ]
  },
  {
   "cell_type": "code",
   "execution_count": 2,
   "metadata": {
    "collapsed": true
   },
   "outputs": [],
   "source": [
    "from statiskit import (linalg,\n",
    "                       core,\n",
    "                       pgm)"
   ]
  },
  {
   "cell_type": "code",
   "execution_count": 3,
   "metadata": {
    "collapsed": true
   },
   "outputs": [],
   "source": [
    "import math\n",
    "import os"
   ]
  },
  {
   "cell_type": "code",
   "execution_count": 4,
   "metadata": {
    "collapsed": true
   },
   "outputs": [],
   "source": [
    "%reload_ext rpy2.ipython"
   ]
  },
  {
   "cell_type": "code",
   "execution_count": 5,
   "metadata": {},
   "outputs": [
    {
     "data": {
      "text/html": [
       "<table style=\"max-width: 100%;\">\n",
       "\t\t<tr>\n",
       "\t\t\t<th></th>\n",
       "\t\t\t<th>V0</th>\n",
       "\t\t\t<th>V1</th>\n",
       "\t\t\t<th>V2</th>\n",
       "\t\t\t<th>V3</th>\n",
       "\t\t\t<th>V4</th>\n",
       "\t\t</tr>\n",
       "\t\t<tr>\n",
       "\t\t\t<th>0</th>\n",
       "\t\t\t<td>$2.03$</td>\n",
       "\t\t\t<td>$1.81$</td>\n",
       "\t\t\t<td>$-0.01$</td>\n",
       "\t\t\t<td>$0.34$</td>\n",
       "\t\t\t<td>$-0.31$</td>\n",
       "\t\t<tr>\n",
       "\t\t\t<th>1</th>\n",
       "\t\t\t<td>$-0.96$</td>\n",
       "\t\t\t<td>$0.94$</td>\n",
       "\t\t\t<td>$-0.87$</td>\n",
       "\t\t\t<td>$1.04$</td>\n",
       "\t\t\t<td>$-0.17$</td>\n",
       "\t\t<tr>\n",
       "\t\t\t<th>2</th>\n",
       "\t\t\t<td>$0.71$</td>\n",
       "\t\t\t<td>$-0.72$</td>\n",
       "\t\t\t<td>$0.13$</td>\n",
       "\t\t\t<td>$0.41$</td>\n",
       "\t\t\t<td>$0.85$</td>\n",
       "\t\t<tr>\n",
       "\t\t\t<th>3</th>\n",
       "\t\t\t<td>$-1.06$</td>\n",
       "\t\t\t<td>$0.16$</td>\n",
       "\t\t\t<td>$-1.45$</td>\n",
       "\t\t\t<td>$0.54$</td>\n",
       "\t\t\t<td>$-0.96$</td>\n",
       "\t\t<tr>\n",
       "\t\t\t<th>4</th>\n",
       "\t\t\t<td>$-0.22$</td>\n",
       "\t\t\t<td>$0.31$</td>\n",
       "\t\t\t<td>$-0.73$</td>\n",
       "\t\t\t<td>$0.31$</td>\n",
       "\t\t\t<td>$-0.37$</td>\n",
       "\t</table>"
      ],
      "text/plain": [
       "      'V0'    'V1'    'V2'    'V3'   'V4'   \n",
       "0     2.03    1.81    -0.01   0.34   -0.31  \n",
       "1     -0.96   0.94    -0.87   1.04   -0.17  \n",
       "2     0.71    -0.72   0.13    0.41   0.85   \n",
       "3     -1.06   0.16    -1.45   0.54   -0.96  \n",
       "4     -0.22   0.31    -0.73   0.31   -0.37  "
      ]
     },
     "execution_count": 5,
     "metadata": {},
     "output_type": "execute_result"
    }
   ],
   "source": [
    "if not 'K' in os.environ:\n",
    "    os.environ['K'] = str(5)\n",
    "K = int(os.environ.get('K'))\n",
    "simulation = !jupyter nbconvert --ExecutePreprocessor.timeout=3600 --to notebook --execute sampling.ipynb --output sampling.ipynb\n",
    "graph0 = pgm.read_gml(os.path.join('results', 'graph.gml'))\n",
    "data = core.read_csv(os.path.join('results', 'data.csv'))\n",
    "data"
   ]
  },
  {
   "cell_type": "code",
   "execution_count": 13,
   "metadata": {
    "collapsed": true
   },
   "outputs": [],
   "source": [
    "import hashlib\n",
    "identifier = hashlib.md5(str(graph0)).hexdigest()\n"
   ]
  },
  {
   "cell_type": "code",
   "execution_count": 6,
   "metadata": {},
   "outputs": [
    {
     "data": {
      "text/plain": [
       "['[NbConvertApp] WARNING | Config option `template_path` not recognized by `NotebookExporter`.',\n",
       " '[NbConvertApp] Converting notebook LASSO.ipynb to notebook',\n",
       " '[NbConvertApp] Executing notebook with kernel: python2',\n",
       " '[NbConvertApp] Writing 81454 bytes to LASSO.ipynb']"
      ]
     },
     "execution_count": 6,
     "metadata": {},
     "output_type": "execute_result"
    }
   ],
   "source": [
    "if not 'LASSO' in os.environ:\n",
    "    os.environ['LASSO'] = \"LINEAIR\"\n",
    "LASSO = os.environ.get('LASSO')\n",
    "lasso = !jupyter nbconvert --ExecutePreprocessor.timeout=3600 --to notebook --execute LASSO.ipynb --output LASSO.ipynb\n",
    "lasso"
   ]
  },
  {
   "cell_type": "raw",
   "metadata": {},
   "source": [
    "graph0 = pgm.read_gml(os.path.join('results', 'graph.gml'))\n",
    "data = core.read_csv(os.path.join('results', 'data.csv'))\n",
    "data"
   ]
  },
  {
   "cell_type": "code",
   "execution_count": 7,
   "metadata": {
    "collapsed": true
   },
   "outputs": [],
   "source": [
    "graphs = []\n",
    "for filepath in os.listdir('.'):\n",
    "    if filepath.startswith('lasso_'):\n",
    "        adjmat = linalg.read_csv(filepath)\n",
    "        graphs.append(pgm.UndirectedGraph(adjmat))\n",
    "graphs = sorted(graphs, key = lambda graph: graph.nb_edges)\n"
   ]
  },
  {
   "cell_type": "code",
   "execution_count": 8,
   "metadata": {},
   "outputs": [
    {
     "name": "stdout",
     "output_type": "stream",
     "text": [
      "CPU times: user 6 µs, sys: 1 µs, total: 7 µs\n",
      "Wall time: 16 µs\n"
     ]
    }
   ],
   "source": [
    "LLHs = []\n",
    "BICs = []\n",
    "AICs = []\n",
    "\n",
    "%time\n",
    "for graph in graphs:\n",
    "    try:\n",
    "        mle = pgm.graphical_gaussian_estimation(algo='scd',\n",
    "                                                data=data,\n",
    "                                                graph=graph)\n",
    "        dist = mle.estimated.copy()\n",
    "\n",
    "        LLHs.append(2 * dist.loglikelihood(data))\n",
    "        \n",
    "    except Exception as e:\n",
    "        print e\n",
    "        LLHs.append(float(\"nan\"))\n",
    "        BICs.append(LLHs[-1])\n",
    "        AICs.append(LLHs[-1])\n",
    "    else:\n",
    "        BICs.append(LLHs[-1] - dist.nb_parameters * math.log(len(data.events)))\n",
    "        AICs.append(LLHs[-1] - dist.nb_parameters * 2)\n",
    "\n"
   ]
  },
  {
   "cell_type": "code",
   "execution_count": 9,
   "metadata": {},
   "outputs": [
    {
     "data": {
      "text/plain": [
       "'bic'"
      ]
     },
     "execution_count": 9,
     "metadata": {},
     "output_type": "execute_result"
    }
   ],
   "source": [
    "os.environ['CRITER'] = \"bic\"\n",
    "criter = os.environ.get('CRITER')\n",
    "criter"
   ]
  },
  {
   "cell_type": "code",
   "execution_count": 10,
   "metadata": {},
   "outputs": [
    {
     "data": {
      "text/plain": [
       "15"
      ]
     },
     "execution_count": 10,
     "metadata": {},
     "output_type": "execute_result"
    }
   ],
   "source": [
    "if criter == \"bic\":\n",
    "    model = BICs.index(max(BICs))\n",
    "elif criter == \"aic\":\n",
    "    model = AICs.index(max(AICs))\n",
    "model"
   ]
  },
  {
   "cell_type": "code",
   "execution_count": 11,
   "metadata": {},
   "outputs": [
    {
     "data": {
      "text/plain": [
       "(0, 5, 0, 20)"
      ]
     },
     "execution_count": 11,
     "metadata": {},
     "output_type": "execute_result"
    }
   ],
   "source": [
    "def TP(g0, g1):\n",
    "    tp = 0\n",
    "    for r in range(g0.nb_vertices):\n",
    "        for c in range(g0.nb_vertices):\n",
    "            if g0.has_edge(r, c) and g1.has_edge(r, c):\n",
    "                tp += 1\n",
    "    return tp\n",
    "\n",
    "def TN(g0, g1):\n",
    "    tn = 0\n",
    "    for r in range(g0.nb_vertices):\n",
    "        for c in range(g0.nb_vertices):\n",
    "            if not g0.has_edge(r, c) and not g1.has_edge(r, c):\n",
    "                tn += 1\n",
    "    return tn\n",
    "\n",
    "def FP(g0, g1):\n",
    "    fp = 0\n",
    "    for r in range(g0.nb_vertices):\n",
    "        for c in range(g0.nb_vertices):\n",
    "            if  g0.has_edge(r, c) and not g1.has_edge(r, c):\n",
    "                fp += 1\n",
    "    return fp\n",
    "\n",
    "def FN(g0, g1):\n",
    "    fn = 0\n",
    "    for r in range(g0.nb_vertices):\n",
    "        for c in range(g0.nb_vertices):\n",
    "            if not g0.has_edge(r, c) and g1.has_edge(r, c):\n",
    "                fn += 1\n",
    "    return fn\n",
    "tp, tn, fp, fn = TP(graph0, graph), TN(graph0, graph), FP(graph0, graph), FN(graph0, graph)\n",
    "(tp, tn, fp, fn)"
   ]
  },
  {
   "cell_type": "code",
   "execution_count": 12,
   "metadata": {
    "collapsed": true
   },
   "outputs": [],
   "source": [
    "TPs = []\n",
    "TNs = []\n",
    "FPs = []\n",
    "FNs = []\n",
    "for graph in graphs:\n",
    "    TPs.append(TP(graph0, graph))\n",
    "    TNs.append(TN(graph0, graph))\n",
    "    FPs.append(FP(graph0, graph))\n",
    "    FNs.append(FN(graph0, graph))\n"
   ]
  },
  {
   "cell_type": "code",
   "execution_count": 14,
   "metadata": {
    "collapsed": true
   },
   "outputs": [],
   "source": [
    "import math\n",
    "with open(os.path.join('results', 'model.csv'), 'a') as filehandler:\n",
    "    filehandler.write(','.join([str(criter), str(TPs[model]), str(TNs[model]), str(FPs[model]), str(FNs[model])]) + '\\n')"
   ]
  },
  {
   "cell_type": "code",
   "execution_count": null,
   "metadata": {
    "collapsed": true
   },
   "outputs": [],
   "source": []
  }
 ],
 "metadata": {
  "kernelspec": {
   "display_name": "Python 2",
   "language": "python",
   "name": "python2"
  },
  "language_info": {
   "codemirror_mode": {
    "name": "ipython",
    "version": 2
   },
   "file_extension": ".py",
   "mimetype": "text/x-python",
   "name": "python",
   "nbconvert_exporter": "python",
   "pygments_lexer": "ipython2",
   "version": "2.7.13"
  }
 },
 "nbformat": 4,
 "nbformat_minor": 2
}
