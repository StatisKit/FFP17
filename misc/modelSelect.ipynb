{
 "cells": [
  {
   "cell_type": "markdown",
   "metadata": {},
   "source": [
    "# Séléction de modèle "
   ]
  },
  {
   "cell_type": "code",
   "execution_count": 1,
   "metadata": {
    "collapsed": true
   },
   "outputs": [],
   "source": [
    "import matplotlib\n",
    "%matplotlib nbagg\n",
    "from matplotlib import pyplot"
   ]
  },
  {
   "cell_type": "code",
   "execution_count": 2,
   "metadata": {
    "collapsed": true
   },
   "outputs": [],
   "source": [
    "from statiskit import (linalg,\n",
    "                       core,\n",
    "                       pgm)"
   ]
  },
  {
   "cell_type": "code",
   "execution_count": 3,
   "metadata": {
    "collapsed": true
   },
   "outputs": [],
   "source": [
    "import math\n",
    "import os"
   ]
  },
  {
   "cell_type": "raw",
   "metadata": {},
   "source": [
    "if not 'K' in os.environ:\n",
    "    os.environ['K'] = str(10)\n",
    "K = int(os.environ.get('K'))"
   ]
  },
  {
   "cell_type": "code",
   "execution_count": 4,
   "metadata": {},
   "outputs": [
    {
     "data": {
      "text/html": [
       "<table style=\"max-width: 100%;\">\n",
       "\t\t<tr>\n",
       "\t\t\t<th></th>\n",
       "\t\t\t<th>V0</th>\n",
       "\t\t\t<th>V1</th>\n",
       "\t\t\t<th>V2</th>\n",
       "\t\t\t<th>V3</th>\n",
       "\t\t\t<th>V4</th>\n",
       "\t\t\t<th>V5</th>\n",
       "\t\t\t<th>V6</th>\n",
       "\t\t\t<th>V7</th>\n",
       "\t\t\t<th>V8</th>\n",
       "\t\t\t<th>V9</th>\n",
       "\t\t</tr>\n",
       "\t\t<tr>\n",
       "\t\t\t<th>0</th>\n",
       "\t\t\t<td>$0.20$</td>\n",
       "\t\t\t<td>$-0.48$</td>\n",
       "\t\t\t<td>$2.25$</td>\n",
       "\t\t\t<td>$1.59$</td>\n",
       "\t\t\t<td>$-0.35$</td>\n",
       "\t\t\t<td>$0.75$</td>\n",
       "\t\t\t<td>$-1.48$</td>\n",
       "\t\t\t<td>$0.61$</td>\n",
       "\t\t\t<td>$3.28$</td>\n",
       "\t\t\t<td>$-2.61$</td>\n",
       "\t\t<tr>\n",
       "\t\t\t<th>1</th>\n",
       "\t\t\t<td>$1.06$</td>\n",
       "\t\t\t<td>$-0.12$</td>\n",
       "\t\t\t<td>$-0.68$</td>\n",
       "\t\t\t<td>$0.22$</td>\n",
       "\t\t\t<td>$1.75$</td>\n",
       "\t\t\t<td>$1.79$</td>\n",
       "\t\t\t<td>$-1.82$</td>\n",
       "\t\t\t<td>$0.46$</td>\n",
       "\t\t\t<td>$1.25$</td>\n",
       "\t\t\t<td>$0.65$</td>\n",
       "\t\t<tr>\n",
       "\t\t\t<th>2</th>\n",
       "\t\t\t<td>$-1.33$</td>\n",
       "\t\t\t<td>$-0.50$</td>\n",
       "\t\t\t<td>$-0.18$</td>\n",
       "\t\t\t<td>$0.89$</td>\n",
       "\t\t\t<td>$-1.70$</td>\n",
       "\t\t\t<td>$0.13$</td>\n",
       "\t\t\t<td>$0.07$</td>\n",
       "\t\t\t<td>$1.20$</td>\n",
       "\t\t\t<td>$0.44$</td>\n",
       "\t\t\t<td>$-2.82$</td>\n",
       "\t\t<tr>\n",
       "\t\t\t<th>3</th>\n",
       "\t\t\t<td>$1.51$</td>\n",
       "\t\t\t<td>$-0.56$</td>\n",
       "\t\t\t<td>$0.64$</td>\n",
       "\t\t\t<td>$2.65$</td>\n",
       "\t\t\t<td>$0.11$</td>\n",
       "\t\t\t<td>$1.30$</td>\n",
       "\t\t\t<td>$-2.94$</td>\n",
       "\t\t\t<td>$1.14$</td>\n",
       "\t\t\t<td>$1.18$</td>\n",
       "\t\t\t<td>$-0.34$</td>\n",
       "\t\t<tr>\n",
       "\t\t\t<th>4</th>\n",
       "\t\t\t<td>$0.77$</td>\n",
       "\t\t\t<td>$-0.05$</td>\n",
       "\t\t\t<td>$-1.42$</td>\n",
       "\t\t\t<td>$-1.55$</td>\n",
       "\t\t\t<td>$-1.01$</td>\n",
       "\t\t\t<td>$0.58$</td>\n",
       "\t\t\t<td>$-0.75$</td>\n",
       "\t\t\t<td>$1.34$</td>\n",
       "\t\t\t<td>$0.10$</td>\n",
       "\t\t\t<td>$-2.74$</td>\n",
       "\t\t<tr>\n",
       "\t\t\t<th>5</th>\n",
       "\t\t\t<td>$0.02$</td>\n",
       "\t\t\t<td>$-0.50$</td>\n",
       "\t\t\t<td>$0.43$</td>\n",
       "\t\t\t<td>$-1.71$</td>\n",
       "\t\t\t<td>$-0.43$</td>\n",
       "\t\t\t<td>$1.05$</td>\n",
       "\t\t\t<td>$-0.30$</td>\n",
       "\t\t\t<td>$0.79$</td>\n",
       "\t\t\t<td>$2.08$</td>\n",
       "\t\t\t<td>$-0.23$</td>\n",
       "\t\t<tr>\n",
       "\t\t\t<th>6</th>\n",
       "\t\t\t<td>$-0.66$</td>\n",
       "\t\t\t<td>$0.09$</td>\n",
       "\t\t\t<td>$-1.51$</td>\n",
       "\t\t\t<td>$0.08$</td>\n",
       "\t\t\t<td>$-0.09$</td>\n",
       "\t\t\t<td>$0.50$</td>\n",
       "\t\t\t<td>$0.07$</td>\n",
       "\t\t\t<td>$1.68$</td>\n",
       "\t\t\t<td>$-0.68$</td>\n",
       "\t\t\t<td>$-2.83$</td>\n",
       "\t\t<tr>\n",
       "\t\t\t<th>7</th>\n",
       "\t\t\t<td>$1.45$</td>\n",
       "\t\t\t<td>$-0.59$</td>\n",
       "\t\t\t<td>$-0.95$</td>\n",
       "\t\t\t<td>$-1.89$</td>\n",
       "\t\t\t<td>$-0.85$</td>\n",
       "\t\t\t<td>$0.83$</td>\n",
       "\t\t\t<td>$2.22$</td>\n",
       "\t\t\t<td>$0.64$</td>\n",
       "\t\t\t<td>$0.12$</td>\n",
       "\t\t\t<td>$-1.97$</td>\n",
       "\t\t<tr>\n",
       "\t\t\t<th>8</th>\n",
       "\t\t\t<td>$0.24$</td>\n",
       "\t\t\t<td>$-0.10$</td>\n",
       "\t\t\t<td>$-0.48$</td>\n",
       "\t\t\t<td>$-1.72$</td>\n",
       "\t\t\t<td>$-0.19$</td>\n",
       "\t\t\t<td>$0.41$</td>\n",
       "\t\t\t<td>$0.80$</td>\n",
       "\t\t\t<td>$0.64$</td>\n",
       "\t\t\t<td>$0.10$</td>\n",
       "\t\t\t<td>$0.25$</td>\n",
       "\t\t<tr>\n",
       "\t\t\t<th>9</th>\n",
       "\t\t\t<td>$-1.07$</td>\n",
       "\t\t\t<td>$-0.51$</td>\n",
       "\t\t\t<td>$-0.45$</td>\n",
       "\t\t\t<td>$0.64$</td>\n",
       "\t\t\t<td>$0.58$</td>\n",
       "\t\t\t<td>$1.56$</td>\n",
       "\t\t\t<td>$-1.71$</td>\n",
       "\t\t\t<td>$0.45$</td>\n",
       "\t\t\t<td>$2.32$</td>\n",
       "\t\t\t<td>$0.34$</td>\n",
       "\t</table>"
      ],
      "text/plain": [
       "      'V0'    'V1'    'V2'    'V3'    'V4'    'V5'   'V6'    'V7'   'V8'    'V9'   \n",
       "0     0.20    -0.48   2.25    1.59    -0.35   0.75   -1.48   0.61   3.28    -2.61  \n",
       "1     1.06    -0.12   -0.68   0.22    1.75    1.79   -1.82   0.46   1.25    0.65   \n",
       "2     -1.33   -0.50   -0.18   0.89    -1.70   0.13   0.07    1.20   0.44    -2.82  \n",
       "3     1.51    -0.56   0.64    2.65    0.11    1.30   -2.94   1.14   1.18    -0.34  \n",
       "4     0.77    -0.05   -1.42   -1.55   -1.01   0.58   -0.75   1.34   0.10    -2.74  \n",
       "5     0.02    -0.50   0.43    -1.71   -0.43   1.05   -0.30   0.79   2.08    -0.23  \n",
       "6     -0.66   0.09    -1.51   0.08    -0.09   0.50   0.07    1.68   -0.68   -2.83  \n",
       "7     1.45    -0.59   -0.95   -1.89   -0.85   0.83   2.22    0.64   0.12    -1.97  \n",
       "8     0.24    -0.10   -0.48   -1.72   -0.19   0.41   0.80    0.64   0.10    0.25   \n",
       "9     -1.07   -0.51   -0.45   0.64    0.58    1.56   -1.71   0.45   2.32    0.34   "
      ]
     },
     "execution_count": 4,
     "metadata": {},
     "output_type": "execute_result"
    }
   ],
   "source": [
    "for lasso in ['AUTRE', 'LINEAIRE']:\n",
    "    os.environ['LASSO'] = lasso\n",
    "    mod = !jupyter nbconvert --ExecutePreprocessor.timeout=3600 --to notebook --execute misc/LASSO.ipynb --output misc/LASSO.ipynb\n",
    "graph0 = pgm.read_gml(os.path.join('results', 'graph.gml'))\n",
    "data = core.read_csv(os.path.join('results', 'data.csv'))\n",
    "data"
   ]
  },
  {
   "cell_type": "code",
   "execution_count": 5,
   "metadata": {},
   "outputs": [
    {
     "data": {
      "text/plain": [
       "[]"
      ]
     },
     "execution_count": 5,
     "metadata": {},
     "output_type": "execute_result"
    }
   ],
   "source": [
    "graphs = []\n",
    "for filepath in os.listdir('.'):\n",
    "    if filepath.startswith('lasso_'):\n",
    "        adjmat = linalg.read_csv(filepath)\n",
    "        graphs.append(pgm.UndirectedGraph(adjmat))\n",
    "graphs = sorted(graphs, key = lambda graph: graph.nb_edges)\n",
    "graphs"
   ]
  },
  {
   "cell_type": "code",
   "execution_count": 9,
   "metadata": {},
   "outputs": [
    {
     "name": "stdout",
     "output_type": "stream",
     "text": [
      "CPU times: user 18 µs, sys: 2 µs, total: 20 µs\n",
      "Wall time: 49.8 µs\n"
     ]
    },
    {
     "data": {
      "text/plain": [
       "[]"
      ]
     },
     "execution_count": 9,
     "metadata": {},
     "output_type": "execute_result"
    }
   ],
   "source": [
    "LLHs = []\n",
    "BICs = []\n",
    "AICs = []\n",
    "\n",
    "%time\n",
    "for graph in graphs:\n",
    "    try:\n",
    "        mle = pgm.graphical_gaussian_estimation(algo='scd',\n",
    "                                                data=data,\n",
    "                                                graph=graph)\n",
    "        dist = mle.estimated.copy()\n",
    "\n",
    "        LLHs.append(2 * dist.loglikelihood(data))\n",
    "        \n",
    "    except Exception as e:\n",
    "        print e\n",
    "        LLHs.append(float(\"nan\"))\n",
    "        BICs.append(LLHs[-1])\n",
    "        AICs.append(LLHs[-1])\n",
    "    else:\n",
    "        BICs.append(LLHs[-1] - dist.nb_parameters * math.log(len(data.events)))\n",
    "        AICs.append(LLHs[-1] - dist.nb_parameters * 2)\n",
    "\n",
    "#fig = pyplot.figure()\n",
    "#axes = fig.add_subplot(111)\n",
    "#axes.plot(LLHs)\n",
    "#axes.plot(BICs)\n",
    "#axes.plot(AICs)\n"
   ]
  },
  {
   "cell_type": "code",
   "execution_count": 7,
   "metadata": {},
   "outputs": [
    {
     "data": {
      "text/plain": [
       "'bic'"
      ]
     },
     "execution_count": 7,
     "metadata": {},
     "output_type": "execute_result"
    }
   ],
   "source": [
    "os.environ['CRITER'] = \"bic\"\n",
    "criter = os.environ.get('CRITER')\n",
    "criter"
   ]
  },
  {
   "cell_type": "code",
   "execution_count": 8,
   "metadata": {},
   "outputs": [
    {
     "ename": "ValueError",
     "evalue": "max() arg is an empty sequence",
     "output_type": "error",
     "traceback": [
      "\u001b[0;31m---------------------------------------------------------------------------\u001b[0m",
      "\u001b[0;31mValueError\u001b[0m                                Traceback (most recent call last)",
      "\u001b[0;32m<ipython-input-8-c745b72ef60a>\u001b[0m in \u001b[0;36m<module>\u001b[0;34m()\u001b[0m\n\u001b[1;32m      1\u001b[0m \u001b[0;32mif\u001b[0m \u001b[0mcriter\u001b[0m \u001b[0;34m==\u001b[0m \u001b[0;34m\"bic\"\u001b[0m\u001b[0;34m:\u001b[0m\u001b[0;34m\u001b[0m\u001b[0m\n\u001b[0;32m----> 2\u001b[0;31m     \u001b[0mmodel\u001b[0m \u001b[0;34m=\u001b[0m \u001b[0mBICs\u001b[0m\u001b[0;34m.\u001b[0m\u001b[0mindex\u001b[0m\u001b[0;34m(\u001b[0m\u001b[0mmax\u001b[0m\u001b[0;34m(\u001b[0m\u001b[0mBICs\u001b[0m\u001b[0;34m)\u001b[0m\u001b[0;34m)\u001b[0m\u001b[0;34m\u001b[0m\u001b[0m\n\u001b[0m\u001b[1;32m      3\u001b[0m \u001b[0;32melse\u001b[0m\u001b[0;34m:\u001b[0m\u001b[0;34m\u001b[0m\u001b[0m\n\u001b[1;32m      4\u001b[0m     \u001b[0mmodel\u001b[0m \u001b[0;34m=\u001b[0m \u001b[0mAICs\u001b[0m\u001b[0;34m.\u001b[0m\u001b[0mindex\u001b[0m\u001b[0;34m(\u001b[0m\u001b[0mmax\u001b[0m\u001b[0;34m(\u001b[0m\u001b[0mAICs\u001b[0m\u001b[0;34m)\u001b[0m\u001b[0;34m)\u001b[0m\u001b[0;34m\u001b[0m\u001b[0m\n\u001b[1;32m      5\u001b[0m \u001b[0mmodel\u001b[0m\u001b[0;34m\u001b[0m\u001b[0m\n",
      "\u001b[0;31mValueError\u001b[0m: max() arg is an empty sequence"
     ]
    }
   ],
   "source": [
    "if criter == \"bic\":\n",
    "    model = BICs.index(max(BICs))\n",
    "else:\n",
    "    model = AICs.index(max(AICs))\n",
    "model"
   ]
  },
  {
   "cell_type": "code",
   "execution_count": null,
   "metadata": {},
   "outputs": [],
   "source": [
    "import math\n",
    "with open(os.path.join('results', 'model.csv'), 'a') as filehandler:\n",
    "    filehandler.write(','.join([str(criter), str(model)]) + '\\n')"
   ]
  }
 ],
 "metadata": {
  "kernelspec": {
   "display_name": "Python 2",
   "language": "python",
   "name": "python2"
  },
  "language_info": {
   "codemirror_mode": {
    "name": "ipython",
    "version": 2
   },
   "file_extension": ".py",
   "mimetype": "text/x-python",
   "name": "python",
   "nbconvert_exporter": "python",
   "pygments_lexer": "ipython2",
   "version": "2.7.13"
  }
 },
 "nbformat": 4,
 "nbformat_minor": 2
}
