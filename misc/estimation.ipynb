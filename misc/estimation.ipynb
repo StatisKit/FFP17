{
 "cells": [
  {
   "cell_type": "code",
   "execution_count": 1,
   "metadata": {
    "collapsed": true
   },
   "outputs": [],
   "source": [
    "import matplotlib\n",
    "%matplotlib nbagg\n",
    "from matplotlib import pyplot"
   ]
  },
  {
   "cell_type": "code",
   "execution_count": 2,
   "metadata": {
    "collapsed": true
   },
   "outputs": [],
   "source": [
    "from statiskit import (linalg,\n",
    "                       core,\n",
    "                       pgm)"
   ]
  },
  {
   "cell_type": "code",
   "execution_count": 3,
   "metadata": {
    "collapsed": true
   },
   "outputs": [],
   "source": [
    "import math\n",
    "import os"
   ]
  },
  {
   "cell_type": "markdown",
   "metadata": {},
   "source": [
    "# Simuler un graphe cordal $\\Theta$ et les données data avec le fichier sampling"
   ]
  },
  {
   "cell_type": "code",
   "execution_count": 4,
   "metadata": {},
   "outputs": [
    {
     "data": {
      "text/html": [
       "<table style=\"max-width: 100%;\">\n",
       "\t\t<tr>\n",
       "\t\t\t<th></th>\n",
       "\t\t\t<th>V0</th>\n",
       "\t\t\t<th>V1</th>\n",
       "\t\t\t<th>V2</th>\n",
       "\t\t\t<th>V3</th>\n",
       "\t\t\t<th>V4</th>\n",
       "\t\t\t<th>V5</th>\n",
       "\t\t\t<th>V6</th>\n",
       "\t\t\t<th>V7</th>\n",
       "\t\t\t<th>V8</th>\n",
       "\t\t\t<th>V9</th>\n",
       "\t\t</tr>\n",
       "\t\t<tr>\n",
       "\t\t\t<th>0</th>\n",
       "\t\t\t<td>$0.45$</td>\n",
       "\t\t\t<td>$-0.37$</td>\n",
       "\t\t\t<td>$-0.34$</td>\n",
       "\t\t\t<td>$1.46$</td>\n",
       "\t\t\t<td>$0.90$</td>\n",
       "\t\t\t<td>$-0.22$</td>\n",
       "\t\t\t<td>$1.61$</td>\n",
       "\t\t\t<td>$0.59$</td>\n",
       "\t\t\t<td>$-1.39$</td>\n",
       "\t\t\t<td>$-0.32$</td>\n",
       "\t\t<tr>\n",
       "\t\t\t<th>1</th>\n",
       "\t\t\t<td>$0.10$</td>\n",
       "\t\t\t<td>$-0.50$</td>\n",
       "\t\t\t<td>$-0.59$</td>\n",
       "\t\t\t<td>$-0.28$</td>\n",
       "\t\t\t<td>$1.52$</td>\n",
       "\t\t\t<td>$-1.74$</td>\n",
       "\t\t\t<td>$2.19$</td>\n",
       "\t\t\t<td>$-0.00$</td>\n",
       "\t\t\t<td>$0.79$</td>\n",
       "\t\t\t<td>$0.05$</td>\n",
       "\t\t<tr>\n",
       "\t\t\t<th>2</th>\n",
       "\t\t\t<td>$-0.80$</td>\n",
       "\t\t\t<td>$-0.42$</td>\n",
       "\t\t\t<td>$0.91$</td>\n",
       "\t\t\t<td>$0.72$</td>\n",
       "\t\t\t<td>$1.31$</td>\n",
       "\t\t\t<td>$-1.42$</td>\n",
       "\t\t\t<td>$2.92$</td>\n",
       "\t\t\t<td>$0.84$</td>\n",
       "\t\t\t<td>$0.88$</td>\n",
       "\t\t\t<td>$-0.36$</td>\n",
       "\t\t<tr>\n",
       "\t\t\t<th>3</th>\n",
       "\t\t\t<td>$-0.61$</td>\n",
       "\t\t\t<td>$-0.44$</td>\n",
       "\t\t\t<td>$0.39$</td>\n",
       "\t\t\t<td>$-0.89$</td>\n",
       "\t\t\t<td>$1.10$</td>\n",
       "\t\t\t<td>$-0.56$</td>\n",
       "\t\t\t<td>$-1.20$</td>\n",
       "\t\t\t<td>$0.50$</td>\n",
       "\t\t\t<td>$-0.63$</td>\n",
       "\t\t\t<td>$0.08$</td>\n",
       "\t\t<tr>\n",
       "\t\t\t<th>4</th>\n",
       "\t\t\t<td>$0.55$</td>\n",
       "\t\t\t<td>$-0.05$</td>\n",
       "\t\t\t<td>$0.53$</td>\n",
       "\t\t\t<td>$0.94$</td>\n",
       "\t\t\t<td>$2.04$</td>\n",
       "\t\t\t<td>$-1.39$</td>\n",
       "\t\t\t<td>$-0.42$</td>\n",
       "\t\t\t<td>$-0.52$</td>\n",
       "\t\t\t<td>$-2.06$</td>\n",
       "\t\t\t<td>$0.32$</td>\n",
       "\t\t<tr>\n",
       "\t\t\t<th>5</th>\n",
       "\t\t\t<td>$0.73$</td>\n",
       "\t\t\t<td>$-0.29$</td>\n",
       "\t\t\t<td>$1.45$</td>\n",
       "\t\t\t<td>$0.15$</td>\n",
       "\t\t\t<td>$0.20$</td>\n",
       "\t\t\t<td>$1.94$</td>\n",
       "\t\t\t<td>$-2.66$</td>\n",
       "\t\t\t<td>$-0.05$</td>\n",
       "\t\t\t<td>$1.74$</td>\n",
       "\t\t\t<td>$0.34$</td>\n",
       "\t\t<tr>\n",
       "\t\t\t<th>6</th>\n",
       "\t\t\t<td>$-0.64$</td>\n",
       "\t\t\t<td>$-0.96$</td>\n",
       "\t\t\t<td>$0.60$</td>\n",
       "\t\t\t<td>$1.12$</td>\n",
       "\t\t\t<td>$0.92$</td>\n",
       "\t\t\t<td>$1.02$</td>\n",
       "\t\t\t<td>$1.73$</td>\n",
       "\t\t\t<td>$0.80$</td>\n",
       "\t\t\t<td>$-0.36$</td>\n",
       "\t\t\t<td>$0.46$</td>\n",
       "\t\t<tr>\n",
       "\t\t\t<th>7</th>\n",
       "\t\t\t<td>$1.05$</td>\n",
       "\t\t\t<td>$-0.71$</td>\n",
       "\t\t\t<td>$1.37$</td>\n",
       "\t\t\t<td>$0.60$</td>\n",
       "\t\t\t<td>$-0.06$</td>\n",
       "\t\t\t<td>$-0.19$</td>\n",
       "\t\t\t<td>$-0.86$</td>\n",
       "\t\t\t<td>$0.15$</td>\n",
       "\t\t\t<td>$-0.77$</td>\n",
       "\t\t\t<td>$-0.82$</td>\n",
       "\t\t<tr>\n",
       "\t\t\t<th>8</th>\n",
       "\t\t\t<td>$2.55$</td>\n",
       "\t\t\t<td>$-0.82$</td>\n",
       "\t\t\t<td>$0.75$</td>\n",
       "\t\t\t<td>$-0.94$</td>\n",
       "\t\t\t<td>$0.03$</td>\n",
       "\t\t\t<td>$-0.78$</td>\n",
       "\t\t\t<td>$-1.40$</td>\n",
       "\t\t\t<td>$0.22$</td>\n",
       "\t\t\t<td>$0.15$</td>\n",
       "\t\t\t<td>$1.09$</td>\n",
       "\t\t<tr>\n",
       "\t\t\t<th>9</th>\n",
       "\t\t\t<td>$0.16$</td>\n",
       "\t\t\t<td>$-0.57$</td>\n",
       "\t\t\t<td>$0.24$</td>\n",
       "\t\t\t<td>$-0.47$</td>\n",
       "\t\t\t<td>$-0.49$</td>\n",
       "\t\t\t<td>$1.21$</td>\n",
       "\t\t\t<td>$-0.16$</td>\n",
       "\t\t\t<td>$0.47$</td>\n",
       "\t\t\t<td>$-0.66$</td>\n",
       "\t\t\t<td>$-0.58$</td>\n",
       "\t</table>"
      ],
      "text/plain": [
       "      'V0'    'V1'    'V2'    'V3'    'V4'    'V5'    'V6'    'V7'    'V8'    'V9'   \n",
       "0     0.45    -0.37   -0.34   1.46    0.90    -0.22   1.61    0.59    -1.39   -0.32  \n",
       "1     0.10    -0.50   -0.59   -0.28   1.52    -1.74   2.19    -0.00   0.79    0.05   \n",
       "2     -0.80   -0.42   0.91    0.72    1.31    -1.42   2.92    0.84    0.88    -0.36  \n",
       "3     -0.61   -0.44   0.39    -0.89   1.10    -0.56   -1.20   0.50    -0.63   0.08   \n",
       "4     0.55    -0.05   0.53    0.94    2.04    -1.39   -0.42   -0.52   -2.06   0.32   \n",
       "5     0.73    -0.29   1.45    0.15    0.20    1.94    -2.66   -0.05   1.74    0.34   \n",
       "6     -0.64   -0.96   0.60    1.12    0.92    1.02    1.73    0.80    -0.36   0.46   \n",
       "7     1.05    -0.71   1.37    0.60    -0.06   -0.19   -0.86   0.15    -0.77   -0.82  \n",
       "8     2.55    -0.82   0.75    -0.94   0.03    -0.78   -1.40   0.22    0.15    1.09   \n",
       "9     0.16    -0.57   0.24    -0.47   -0.49   1.21    -0.16   0.47    -0.66   -0.58  "
      ]
     },
     "execution_count": 4,
     "metadata": {},
     "output_type": "execute_result"
    }
   ],
   "source": [
    "if not 'K' in os.environ:\n",
    "    os.environ['K'] = str(10)\n",
    "K = int(os.environ.get('K'))\n",
    "simulation = !jupyter nbconvert --ExecutePreprocessor.timeout=3600 --to notebook --execute sampling.ipynb --output sampling.ipynb\n",
    "graph = pgm.read_gml(os.path.join('results', 'graph.gml'))\n",
    "while not graph.is_chordal:\n",
    "    simulation = !jupyter nbconvert --ExecutePreprocessor.timeout=3600 --to notebook --execute sampling.ipynb --output sampling.ipynb\n",
    "    graph = pgm.read_gml(os.path.join('results', 'graph.gml'))\n",
    "\n",
    "data = core.read_csv(os.path.join('results', 'data.csv'))\n",
    "data\n"
   ]
  },
  {
   "cell_type": "markdown",
   "metadata": {},
   "source": [
    "# Estimation par   newton-raphson"
   ]
  },
  {
   "cell_type": "code",
   "execution_count": 5,
   "metadata": {
    "collapsed": true
   },
   "outputs": [],
   "source": [
    "algo = os.environ.get('ALGO', 'nr')"
   ]
  },
  {
   "cell_type": "code",
   "execution_count": 6,
   "metadata": {
    "collapsed": true
   },
   "outputs": [],
   "source": [
    "import time\n",
    "prev = time.time()\n",
    "nre = pgm.graphical_gaussian_estimation(algo=algo,\n",
    "                                        data=data,\n",
    "                                        graph=graph)\n",
    "curr = time.time()"
   ]
  },
  {
   "cell_type": "markdown",
   "metadata": {},
   "source": [
    "# Estimation par maximum vraisemblance MLE"
   ]
  },
  {
   "cell_type": "code",
   "execution_count": 9,
   "metadata": {
    "collapsed": true
   },
   "outputs": [],
   "source": [
    "import sys \n",
    "try:\n",
    "    mle = pgm.graphical_gaussian_estimation(algo='ml',\n",
    "                                        data=data,\n",
    "                                        graph=graph)\n",
    "except:\n",
    "    mle = nre\n",
    "    print (\"theta non semi-def positive\")\n",
    "#finally:\n",
    "#    sys.exit(0) "
   ]
  },
  {
   "cell_type": "markdown",
   "metadata": {},
   "source": [
    "# Calcul de $\\widehat{\\Theta}_{ML}$  et  $\\widehat{\\Theta}_{NR}$"
   ]
  },
  {
   "cell_type": "code",
   "execution_count": 13,
   "metadata": {},
   "outputs": [
    {
     "ename": "AttributeError",
     "evalue": "'NREstimator' object has no attribute 'estimated'",
     "output_type": "error",
     "traceback": [
      "\u001b[0;31m---------------------------------------------------------------------------\u001b[0m",
      "\u001b[0;31mAttributeError\u001b[0m                            Traceback (most recent call last)",
      "\u001b[0;32m<ipython-input-13-2320b61da147>\u001b[0m in \u001b[0;36m<module>\u001b[0;34m()\u001b[0m\n\u001b[1;32m      1\u001b[0m \u001b[0;31m#theta_ML = mle.estimated.graph\u001b[0m\u001b[0;34m\u001b[0m\u001b[0;34m\u001b[0m\u001b[0m\n\u001b[0;32m----> 2\u001b[0;31m \u001b[0mtheta_NR\u001b[0m \u001b[0;34m=\u001b[0m \u001b[0mnre\u001b[0m\u001b[0;34m.\u001b[0m\u001b[0mestimated\u001b[0m\u001b[0;34m.\u001b[0m\u001b[0mgraph\u001b[0m\u001b[0;34m\u001b[0m\u001b[0m\n\u001b[0m",
      "\u001b[0;31mAttributeError\u001b[0m: 'NREstimator' object has no attribute 'estimated'"
     ]
    }
   ],
   "source": [
    "theta_ML = mle.estimated.graph\n",
    "theta_NR = nre.estimated.graph"
   ]
  },
  {
   "cell_type": "code",
   "execution_count": null,
   "metadata": {},
   "outputs": [],
   "source": [
    "fig = pyplot.figure()\n",
    "axes = graph.to_matrix().plot(axes = fig.add_subplot(131))\n",
    "axes.set_title(r'$\\Theta$')\n",
    "axes = theta_ML.to_matrix().plot(axes = fig.add_subplot(132))\n",
    "axes.set_title(r'$\\widehat{\\Theta}_{ML}$')\n",
    "axes = theta_NR.to_matrix().plot(axes = fig.add_subplot(133))\n",
    "axes.set_title(r'$\\widehat{\\Theta}_{NR}$')"
   ]
  },
  {
   "cell_type": "markdown",
   "metadata": {},
   "source": [
    "# Comparaison des deux algorithmes."
   ]
  },
  {
   "cell_type": "code",
   "execution_count": null,
   "metadata": {},
   "outputs": [],
   "source": [
    "\n",
    "LLH_ML = 2 * mle.estimated.loglikelihood(data)\n",
    "\n",
    "LLH_NR = 2 * nre.estimated.loglikelihood(data)\n",
    "\n",
    "\n",
    "(LLH_ML - LLH_NR )/LLH_ML"
   ]
  },
  {
   "cell_type": "code",
   "execution_count": null,
   "metadata": {},
   "outputs": [],
   "source": [
    "LLH_ML, LLH_NR"
   ]
  },
  {
   "cell_type": "code",
   "execution_count": null,
   "metadata": {
    "collapsed": true
   },
   "outputs": [],
   "source": [
    "import math\n",
    "with open(os.path.join('results', 'estimation.csv'), 'a') as filehandler:\n",
    "    filehandler.write(','.join([str(K), str(algo), str(curr-prev), str((LLH_ML - LLH_NR )/math.fabs(LLH_ML))]) + '\\n')"
   ]
  }
 ],
 "metadata": {
  "kernelspec": {
   "display_name": "Python 2",
   "language": "python",
   "name": "python2"
  },
  "language_info": {
   "codemirror_mode": {
    "name": "ipython",
    "version": 2
   },
   "file_extension": ".py",
   "mimetype": "text/x-python",
   "name": "python",
   "nbconvert_exporter": "python",
   "pygments_lexer": "ipython2",
   "version": "2.7.13"
  }
 },
 "nbformat": 4,
 "nbformat_minor": 2
}
