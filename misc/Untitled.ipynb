{
 "cells": [
  {
   "cell_type": "code",
   "execution_count": 1,
   "metadata": {
    "collapsed": true
   },
   "outputs": [],
   "source": [
    "import matplotlib\n",
    "%matplotlib nbagg\n",
    "from matplotlib import pyplot"
   ]
  },
  {
   "cell_type": "code",
   "execution_count": 2,
   "metadata": {
    "collapsed": true
   },
   "outputs": [],
   "source": [
    "from statiskit import (linalg,\n",
    "                       core,\n",
    "                       pgm)"
   ]
  },
  {
   "cell_type": "code",
   "execution_count": 3,
   "metadata": {
    "collapsed": true
   },
   "outputs": [],
   "source": [
    "import math\n",
    "import os"
   ]
  },
  {
   "cell_type": "code",
   "execution_count": 4,
   "metadata": {},
   "outputs": [
    {
     "data": {
      "text/html": [
       "<table style=\"max-width: 100%;\">\n",
       "\t\t<tr>\n",
       "\t\t\t<th></th>\n",
       "\t\t\t<th>V0</th>\n",
       "\t\t\t<th>V1</th>\n",
       "\t\t\t<th>V2</th>\n",
       "\t\t\t<th>V3</th>\n",
       "\t\t\t<th>V4</th>\n",
       "\t\t</tr>\n",
       "\t\t<tr>\n",
       "\t\t\t<th>0</th>\n",
       "\t\t\t<td>$0.24$</td>\n",
       "\t\t\t<td>$0.82$</td>\n",
       "\t\t\t<td>$-0.02$</td>\n",
       "\t\t\t<td>$0.08$</td>\n",
       "\t\t\t<td>$2.20$</td>\n",
       "\t\t<tr>\n",
       "\t\t\t<th>1</th>\n",
       "\t\t\t<td>$0.47$</td>\n",
       "\t\t\t<td>$-0.99$</td>\n",
       "\t\t\t<td>$0.99$</td>\n",
       "\t\t\t<td>$-2.00$</td>\n",
       "\t\t\t<td>$-0.40$</td>\n",
       "\t\t<tr>\n",
       "\t\t\t<th>2</th>\n",
       "\t\t\t<td>$-0.84$</td>\n",
       "\t\t\t<td>$-0.58$</td>\n",
       "\t\t\t<td>$2.21$</td>\n",
       "\t\t\t<td>$0.47$</td>\n",
       "\t\t\t<td>$-0.52$</td>\n",
       "\t\t<tr>\n",
       "\t\t\t<th>3</th>\n",
       "\t\t\t<td>$0.93$</td>\n",
       "\t\t\t<td>$-1.26$</td>\n",
       "\t\t\t<td>$1.11$</td>\n",
       "\t\t\t<td>$0.49$</td>\n",
       "\t\t\t<td>$-2.37$</td>\n",
       "\t\t<tr>\n",
       "\t\t\t<th>4</th>\n",
       "\t\t\t<td>$0.68$</td>\n",
       "\t\t\t<td>$-0.17$</td>\n",
       "\t\t\t<td>$0.80$</td>\n",
       "\t\t\t<td>$1.10$</td>\n",
       "\t\t\t<td>$-0.77$</td>\n",
       "\t</table>"
      ],
      "text/plain": [
       "      'V0'    'V1'    'V2'    'V3'    'V4'   \n",
       "0     0.24    0.82    -0.02   0.08    2.20   \n",
       "1     0.47    -0.99   0.99    -2.00   -0.40  \n",
       "2     -0.84   -0.58   2.21    0.47    -0.52  \n",
       "3     0.93    -1.26   1.11    0.49    -2.37  \n",
       "4     0.68    -0.17   0.80    1.10    -0.77  "
      ]
     },
     "execution_count": 4,
     "metadata": {},
     "output_type": "execute_result"
    }
   ],
   "source": [
    "if not 'K' in os.environ:\n",
    "    os.environ['K'] = str(5)\n",
    "K = int(os.environ.get('K'))\n",
    "simulation = !jupyter nbconvert --ExecutePreprocessor.timeout=3600 --to notebook --execute sampling.ipynb --output sampling.ipynb\n",
    "graph = pgm.read_gml(os.path.join('results', 'graph.gml'))\n",
    "data = core.read_csv(os.path.join('results', 'data.csv'))\n",
    "data\n"
   ]
  },
  {
   "cell_type": "code",
   "execution_count": 5,
   "metadata": {
    "collapsed": true
   },
   "outputs": [],
   "source": [
    "LAMBDA = os.environ.get('L',\"LINEAIR\")"
   ]
  },
  {
   "cell_type": "code",
   "execution_count": 6,
   "metadata": {},
   "outputs": [
    {
     "ename": "SyntaxError",
     "evalue": "invalid syntax (<ipython-input-6-f538f206338a>, line 1)",
     "output_type": "error",
     "traceback": [
      "\u001b[0;36m  File \u001b[0;32m\"<ipython-input-6-f538f206338a>\"\u001b[0;36m, line \u001b[0;32m1\u001b[0m\n\u001b[0;31m    if L == \"LINEAIR\"\u001b[0m\n\u001b[0m                     ^\u001b[0m\n\u001b[0;31mSyntaxError\u001b[0m\u001b[0;31m:\u001b[0m invalid syntax\n"
     ]
    }
   ],
   "source": [
    "if L == \"LINEAIR\"\n",
    "!Rscript  lasso.R\n",
    "elif L == \"AUTRE\"\n",
    "!Rscript lasso1.R"
   ]
  },
  {
   "cell_type": "code",
   "execution_count": null,
   "metadata": {
    "collapsed": true
   },
   "outputs": [],
   "source": [
    "graphs = []\n",
    "for filepath in os.listdir('.'):\n",
    "    if filepath.startswith('lasso_'):\n",
    "        adjmat = linalg.read_csv(filepath)\n",
    "        graphs.append(pgm.UndirectedGraph(adjmat))\n",
    "graphs = sorted(graphs, key = lambda graph: graph.nb_edges)"
   ]
  },
  {
   "cell_type": "code",
   "execution_count": null,
   "metadata": {},
   "outputs": [],
   "source": [
    "LLHs = []\n",
    "BICs = []\n",
    "AICs = []\n",
    "\n",
    "%time\n",
    "for graph in graphs:\n",
    "    try:\n",
    "        mle = pgm.graphical_gaussian_estimation(algo='scd',\n",
    "                                                data=data,\n",
    "                                                graph=graph)\n",
    "\n",
    "        dist = mle.estimated.copy()\n",
    "\n",
    "        LLHs.append(2 * dist.loglikelihood(data))\n",
    "        \n",
    "    except:\n",
    "        LLHs.append(float(\"nan\"))\n",
    "    finally:\n",
    "        \n",
    "        BICs.append(LLHs[-1] - dist.nb_parameters * math.log(len(data.events)))\n",
    "        AICs.append(LLHs[-1] - dist.nb_parameters * 2)\n",
    "\n",
    "fig = pyplot.figure()\n",
    "axes = fig.add_subplot(111)\n",
    "axes.plot(LLHs)\n",
    "axes.plot(BICs)\n",
    "axes.plot(AICs)"
   ]
  },
  {
   "cell_type": "raw",
   "metadata": {},
   "source": [
    "aic = AICs.index(max(AICs))\n",
    "bic = BICs.index(max(BICs))\n"
   ]
  },
  {
   "cell_type": "code",
   "execution_count": null,
   "metadata": {},
   "outputs": [],
   "source": [
    "fig = pyplot.figure()\n",
    "axes = graphs[aic].to_matrix().plot(axes = fig.add_subplot(131))\n",
    "axes.set_title('adjmat avec AIC')\n",
    "axes = graphs[bic].to_matrix().plot(axes = fig.add_subplot(132))\n",
    "axes.set_title('adjmat avec BIC')\n",
    "axes =  graph.to_matrix().plot(axes = fig.add_subplot(133))\n",
    "axes.set_title('$ \\widehat \\Theta$')"
   ]
  },
  {
   "cell_type": "code",
   "execution_count": null,
   "metadata": {
    "collapsed": true
   },
   "outputs": [],
   "source": []
  }
 ],
 "metadata": {
  "kernelspec": {
   "display_name": "Python 2",
   "language": "python",
   "name": "python2"
  },
  "language_info": {
   "codemirror_mode": {
    "name": "ipython",
    "version": 2
   },
   "file_extension": ".py",
   "mimetype": "text/x-python",
   "name": "python",
   "nbconvert_exporter": "python",
   "pygments_lexer": "ipython2",
   "version": "2.7.13"
  }
 },
 "nbformat": 4,
 "nbformat_minor": 2
}
